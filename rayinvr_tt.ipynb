{
 "cells": [
  {
   "cell_type": "code",
   "execution_count": 1,
   "id": "34119bee",
   "metadata": {},
   "outputs": [
    {
     "name": "stdout",
     "output_type": "stream",
     "text": [
      "['2.53794971', '17086', nan, nan]\n"
     ]
    }
   ],
   "source": [
    "### this script assigns the shot distance into the traveltime file\n",
    "import pandas as pd\n",
    "import os\n",
    "import math\n",
    "\n",
    "#read files\n",
    "tmp = pd.read_excel('p30_traveltime.xlsx', sheet_name=\"obh29n\", dtype=str, usecols=[\"shot num\",\"shot location\",\"time\", \"receiver loc\"])\n",
    "tmp1 = tmp.values.tolist()\n",
    "\n",
    "shotdist = open('p30_shotdist.txt', \"r\")\n",
    "data = shotdist.read().split('\\n')\n",
    "output = 'p30_shotdist_fn.txt'\n",
    "\n",
    "print(tmp1[0])"
   ]
  },
  {
   "cell_type": "code",
   "execution_count": 2,
   "id": "99867f42",
   "metadata": {},
   "outputs": [],
   "source": [
    "#Check existence of output file.\n",
    "#If output file exists, remove it.\n",
    "if os.path.isfile(output):\n",
    "    os.remove(output)\n",
    "\n",
    "with open(output, 'a') as f:\n",
    "    header = str('    ')+\"-0.000     1.000     0.000         0\"\n",
    "    f.write(header + \"\\n\")"
   ]
  },
  {
   "cell_type": "code",
   "execution_count": 3,
   "id": "b2b8d256",
   "metadata": {},
   "outputs": [
    {
     "name": "stdout",
     "output_type": "stream",
     "text": [
      "10.884\n"
     ]
    }
   ],
   "source": [
    "for a1, element1 in enumerate(data):\n",
    "    data1 = data[a1].split(',')\n",
    "    shotno1 = data1[0]\n",
    "    shotdist = round(float(data1[1]), 3)\n",
    "\n",
    "print(shotdist)"
   ]
  },
  {
   "cell_type": "code",
   "execution_count": 4,
   "id": "2a547456",
   "metadata": {},
   "outputs": [],
   "source": [
    "#search the same shot num and assign the shot distance to the corresponding shot num.\n",
    "for a, element in enumerate(tmp1):\n",
    "    shot = tmp1[a]\n",
    "    shotno = shot[1]\n",
    "    time = round(float(shot[0]), 3)\n",
    "    timen = format(time, '.3f');\n",
    "    rec = round(float(shot[3]), 3)\n",
    "    \n",
    "    for a1, element1 in enumerate(data):\n",
    "        data1 = data[a1].split(',')\n",
    "        shotno1 = data1[0]\n",
    "        shotdist = round(float(data1[1]), 3)\n",
    "        shotdistn = format(shotdist, '.3f');\n",
    "        if shotno == shotno1:            \n",
    "            #write shot distance into new txt \n",
    "            with open(output, 'a') as f:\n",
    "#                 outp = str('     ')+str(rec)+str('     ')+str(time)+str('     ')+str('0.250')+str('         ')+str('1')+str('      ')+str(shotno1)\n",
    "                outp = str('     ')+str(shotdistn)+str('     ')+str(timen)+str('     ')+str('0.015')+str('         ')+str('1')+str('      ')+str(shotno1)\n",
    "                f.write(\"%s\\n\" % outp)"
   ]
  },
  {
   "cell_type": "code",
   "execution_count": 5,
   "id": "635bfc62",
   "metadata": {},
   "outputs": [
    {
     "name": "stdout",
     "output_type": "stream",
     "text": [
      "17253\n"
     ]
    }
   ],
   "source": [
    "print(shotno)"
   ]
  },
  {
   "cell_type": "code",
   "execution_count": 6,
   "id": "d6a5c79f",
   "metadata": {},
   "outputs": [
    {
     "name": "stdout",
     "output_type": "stream",
     "text": [
      "2.000\n"
     ]
    }
   ],
   "source": [
    "a=3.1\n",
    "result = format(2, '.3f')\n",
    "print(result)"
   ]
  }
 ],
 "metadata": {
  "kernelspec": {
   "display_name": "Python 3 (ipykernel)",
   "language": "python",
   "name": "python3"
  },
  "language_info": {
   "codemirror_mode": {
    "name": "ipython",
    "version": 3
   },
   "file_extension": ".py",
   "mimetype": "text/x-python",
   "name": "python",
   "nbconvert_exporter": "python",
   "pygments_lexer": "ipython3",
   "version": "3.10.4"
  }
 },
 "nbformat": 4,
 "nbformat_minor": 5
}
